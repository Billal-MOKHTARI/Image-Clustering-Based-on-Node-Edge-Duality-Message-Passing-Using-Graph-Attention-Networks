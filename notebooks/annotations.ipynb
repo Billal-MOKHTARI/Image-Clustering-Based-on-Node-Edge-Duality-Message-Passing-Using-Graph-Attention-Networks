{
 "cells": [
  {
   "cell_type": "code",
   "execution_count": 1,
   "metadata": {},
   "outputs": [],
   "source": [
    "import pandas as pd\n",
    "import numpy as np"
   ]
  },
  {
   "cell_type": "code",
   "execution_count": 8,
   "metadata": {},
   "outputs": [],
   "source": [
    "DATA_PATH = \"../benchmark/datasets/agadez/csv_files/annotations.csv\"\n",
    "\n",
    "df = pd.read_csv(DATA_PATH, header=0, index_col=0)\n",
    "# Check which columns have all zeros\n",
    "all_zero_columns = df.columns[(df == 0).all()]\n",
    "\n",
    "# Drop columns with all zeros\n",
    "df = df.drop(all_zero_columns, axis=1)\n",
    "df.to_csv(DATA_PATH.replace(\"annotations\", \"annotations_cleaned\"), index=True)"
   ]
  }
 ],
 "metadata": {
  "kernelspec": {
   "display_name": "base",
   "language": "python",
   "name": "python3"
  },
  "language_info": {
   "codemirror_mode": {
    "name": "ipython",
    "version": 3
   },
   "file_extension": ".py",
   "mimetype": "text/x-python",
   "name": "python",
   "nbconvert_exporter": "python",
   "pygments_lexer": "ipython3",
   "version": "3.11.7"
  }
 },
 "nbformat": 4,
 "nbformat_minor": 2
}
