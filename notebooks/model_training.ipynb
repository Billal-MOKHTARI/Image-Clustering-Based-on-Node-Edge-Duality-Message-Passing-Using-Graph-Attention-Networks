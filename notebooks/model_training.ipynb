{
 "cells": [
  {
   "cell_type": "markdown",
   "metadata": {},
   "source": [
    "## Import Relevant Packages"
   ]
  },
  {
   "cell_type": "code",
   "execution_count": 1,
   "metadata": {},
   "outputs": [],
   "source": [
    "from torchvision import models\n",
    "import torch"
   ]
  },
  {
   "cell_type": "markdown",
   "metadata": {},
   "source": [
    "## Testing"
   ]
  },
  {
   "cell_type": "code",
   "execution_count": 2,
   "metadata": {},
   "outputs": [
    {
     "name": "stderr",
     "output_type": "stream",
     "text": [
      "/home/billalmokhtari/anaconda3/lib/python3.11/site-packages/torchvision/models/_utils.py:208: UserWarning: The parameter 'pretrained' is deprecated since 0.13 and may be removed in the future, please use 'weights' instead.\n",
      "  warnings.warn(\n",
      "/home/billalmokhtari/anaconda3/lib/python3.11/site-packages/torchvision/models/_utils.py:223: UserWarning: Arguments other than a weight enum or `None` for 'weights' are deprecated since 0.13 and may be removed in the future. The current behavior is equivalent to passing `weights=None`.\n",
      "  warnings.warn(msg)\n"
     ]
    }
   ],
   "source": [
    "model = models.vgg16(pretrained=False)"
   ]
  },
  {
   "cell_type": "code",
   "execution_count": 3,
   "metadata": {},
   "outputs": [
    {
     "name": "stdout",
     "output_type": "stream",
     "text": [
      "Exported graph: graph(%input.1 : Float(1, 3, 224, 224, strides=[150528, 50176, 224, 1], requires_grad=0, device=cpu),\n",
      "      %features.0.weight : Float(64, 3, 3, 3, strides=[27, 9, 3, 1], requires_grad=1, device=cpu),\n",
      "      %features.0.bias : Float(64, strides=[1], requires_grad=1, device=cpu),\n",
      "      %features.2.weight : Float(64, 64, 3, 3, strides=[576, 9, 3, 1], requires_grad=1, device=cpu),\n",
      "      %features.5.weight : Float(128, 64, 3, 3, strides=[576, 9, 3, 1], requires_grad=1, device=cpu),\n",
      "      %features.5.bias : Float(128, strides=[1], requires_grad=1, device=cpu),\n",
      "      %features.7.weight : Float(128, 128, 3, 3, strides=[1152, 9, 3, 1], requires_grad=1, device=cpu),\n",
      "      %features.10.weight : Float(256, 128, 3, 3, strides=[1152, 9, 3, 1], requires_grad=1, device=cpu),\n",
      "      %features.10.bias : Float(256, strides=[1], requires_grad=1, device=cpu),\n",
      "      %features.12.weight : Float(256, 256, 3, 3, strides=[2304, 9, 3, 1], requires_grad=1, device=cpu),\n",
      "      %features.14.weight : Float(256, 256, 3, 3, strides=[2304, 9, 3, 1], requires_grad=1, device=cpu),\n",
      "      %features.17.weight : Float(512, 256, 3, 3, strides=[2304, 9, 3, 1], requires_grad=1, device=cpu),\n",
      "      %features.17.bias : Float(512, strides=[1], requires_grad=1, device=cpu),\n",
      "      %features.19.weight : Float(512, 512, 3, 3, strides=[4608, 9, 3, 1], requires_grad=1, device=cpu),\n",
      "      %features.21.weight : Float(512, 512, 3, 3, strides=[4608, 9, 3, 1], requires_grad=1, device=cpu),\n",
      "      %features.24.weight : Float(512, 512, 3, 3, strides=[4608, 9, 3, 1], requires_grad=1, device=cpu),\n",
      "      %features.26.weight : Float(512, 512, 3, 3, strides=[4608, 9, 3, 1], requires_grad=1, device=cpu),\n",
      "      %features.28.weight : Float(512, 512, 3, 3, strides=[4608, 9, 3, 1], requires_grad=1, device=cpu),\n",
      "      %classifier.0.weight : Float(4096, 25088, strides=[25088, 1], requires_grad=1, device=cpu),\n",
      "      %classifier.0.bias : Float(4096, strides=[1], requires_grad=1, device=cpu),\n",
      "      %classifier.3.weight : Float(4096, 4096, strides=[4096, 1], requires_grad=1, device=cpu),\n",
      "      %classifier.6.weight : Float(1000, 4096, strides=[4096, 1], requires_grad=1, device=cpu),\n",
      "      %classifier.6.bias : Float(1000, strides=[1], requires_grad=1, device=cpu)):\n",
      "  %classifier.3.bias : Float(4096, strides=[1], requires_grad=1, device=cpu) = onnx::Identity(%classifier.0.bias)\n",
      "  %features.28.bias : Float(512, strides=[1], requires_grad=1, device=cpu) = onnx::Identity(%features.17.bias)\n",
      "  %features.26.bias : Float(512, strides=[1], requires_grad=1, device=cpu) = onnx::Identity(%features.17.bias)\n",
      "  %features.24.bias : Float(512, strides=[1], requires_grad=1, device=cpu) = onnx::Identity(%features.17.bias)\n",
      "  %features.21.bias : Float(512, strides=[1], requires_grad=1, device=cpu) = onnx::Identity(%features.17.bias)\n",
      "  %features.19.bias : Float(512, strides=[1], requires_grad=1, device=cpu) = onnx::Identity(%features.17.bias)\n",
      "  %features.14.bias : Float(256, strides=[1], requires_grad=1, device=cpu) = onnx::Identity(%features.10.bias)\n",
      "  %features.12.bias : Float(256, strides=[1], requires_grad=1, device=cpu) = onnx::Identity(%features.10.bias)\n",
      "  %features.7.bias : Float(128, strides=[1], requires_grad=1, device=cpu) = onnx::Identity(%features.5.bias)\n",
      "  %features.2.bias : Float(64, strides=[1], requires_grad=1, device=cpu) = onnx::Identity(%features.0.bias)\n",
      "  %/features/features.0/Conv_output_0 : Float(1, 64, 224, 224, strides=[3211264, 50176, 224, 1], requires_grad=0, device=cpu) = onnx::Conv[dilations=[1, 1], group=1, kernel_shape=[3, 3], pads=[1, 1, 1, 1], strides=[1, 1], onnx_name=\"/features/features.0/Conv\"](%input.1, %features.0.weight, %features.0.bias), scope: torchvision.models.vgg.VGG::/torch.nn.modules.container.Sequential::features/torch.nn.modules.conv.Conv2d::features.0 # /home/billalmokhtari/anaconda3/lib/python3.11/site-packages/torch/nn/modules/conv.py:456:0\n",
      "  %/features/features.1/Relu_output_0 : Float(1, 64, 224, 224, strides=[3211264, 50176, 224, 1], requires_grad=1, device=cpu) = onnx::Relu[onnx_name=\"/features/features.1/Relu\"](%/features/features.0/Conv_output_0), scope: torchvision.models.vgg.VGG::/torch.nn.modules.container.Sequential::features/torch.nn.modules.activation.ReLU::features.1 # /home/billalmokhtari/anaconda3/lib/python3.11/site-packages/torch/nn/functional.py:1471:0\n",
      "  %/features/features.2/Conv_output_0 : Float(1, 64, 224, 224, strides=[3211264, 50176, 224, 1], requires_grad=0, device=cpu) = onnx::Conv[dilations=[1, 1], group=1, kernel_shape=[3, 3], pads=[1, 1, 1, 1], strides=[1, 1], onnx_name=\"/features/features.2/Conv\"](%/features/features.1/Relu_output_0, %features.2.weight, %features.2.bias), scope: torchvision.models.vgg.VGG::/torch.nn.modules.container.Sequential::features/torch.nn.modules.conv.Conv2d::features.2 # /home/billalmokhtari/anaconda3/lib/python3.11/site-packages/torch/nn/modules/conv.py:456:0\n",
      "  %/features/features.3/Relu_output_0 : Float(1, 64, 224, 224, strides=[3211264, 50176, 224, 1], requires_grad=1, device=cpu) = onnx::Relu[onnx_name=\"/features/features.3/Relu\"](%/features/features.2/Conv_output_0), scope: torchvision.models.vgg.VGG::/torch.nn.modules.container.Sequential::features/torch.nn.modules.activation.ReLU::features.3 # /home/billalmokhtari/anaconda3/lib/python3.11/site-packages/torch/nn/functional.py:1471:0\n",
      "  %/features/features.4/MaxPool_output_0 : Float(1, 64, 112, 112, strides=[802816, 12544, 112, 1], requires_grad=1, device=cpu) = onnx::MaxPool[ceil_mode=0, dilations=[1, 1], kernel_shape=[2, 2], pads=[0, 0, 0, 0], strides=[2, 2], onnx_name=\"/features/features.4/MaxPool\"](%/features/features.3/Relu_output_0), scope: torchvision.models.vgg.VGG::/torch.nn.modules.container.Sequential::features/torch.nn.modules.pooling.MaxPool2d::features.4 # /home/billalmokhtari/anaconda3/lib/python3.11/site-packages/torch/nn/functional.py:796:0\n",
      "  %/features/features.5/Conv_output_0 : Float(1, 128, 112, 112, strides=[1605632, 12544, 112, 1], requires_grad=0, device=cpu) = onnx::Conv[dilations=[1, 1], group=1, kernel_shape=[3, 3], pads=[1, 1, 1, 1], strides=[1, 1], onnx_name=\"/features/features.5/Conv\"](%/features/features.4/MaxPool_output_0, %features.5.weight, %features.5.bias), scope: torchvision.models.vgg.VGG::/torch.nn.modules.container.Sequential::features/torch.nn.modules.conv.Conv2d::features.5 # /home/billalmokhtari/anaconda3/lib/python3.11/site-packages/torch/nn/modules/conv.py:456:0\n",
      "  %/features/features.6/Relu_output_0 : Float(1, 128, 112, 112, strides=[1605632, 12544, 112, 1], requires_grad=1, device=cpu) = onnx::Relu[onnx_name=\"/features/features.6/Relu\"](%/features/features.5/Conv_output_0), scope: torchvision.models.vgg.VGG::/torch.nn.modules.container.Sequential::features/torch.nn.modules.activation.ReLU::features.6 # /home/billalmokhtari/anaconda3/lib/python3.11/site-packages/torch/nn/functional.py:1471:0\n",
      "  %/features/features.7/Conv_output_0 : Float(1, 128, 112, 112, strides=[1605632, 12544, 112, 1], requires_grad=0, device=cpu) = onnx::Conv[dilations=[1, 1], group=1, kernel_shape=[3, 3], pads=[1, 1, 1, 1], strides=[1, 1], onnx_name=\"/features/features.7/Conv\"](%/features/features.6/Relu_output_0, %features.7.weight, %features.7.bias), scope: torchvision.models.vgg.VGG::/torch.nn.modules.container.Sequential::features/torch.nn.modules.conv.Conv2d::features.7 # /home/billalmokhtari/anaconda3/lib/python3.11/site-packages/torch/nn/modules/conv.py:456:0\n",
      "  %/features/features.8/Relu_output_0 : Float(1, 128, 112, 112, strides=[1605632, 12544, 112, 1], requires_grad=1, device=cpu) = onnx::Relu[onnx_name=\"/features/features.8/Relu\"](%/features/features.7/Conv_output_0), scope: torchvision.models.vgg.VGG::/torch.nn.modules.container.Sequential::features/torch.nn.modules.activation.ReLU::features.8 # /home/billalmokhtari/anaconda3/lib/python3.11/site-packages/torch/nn/functional.py:1471:0\n",
      "  %/features/features.9/MaxPool_output_0 : Float(1, 128, 56, 56, strides=[401408, 3136, 56, 1], requires_grad=1, device=cpu) = onnx::MaxPool[ceil_mode=0, dilations=[1, 1], kernel_shape=[2, 2], pads=[0, 0, 0, 0], strides=[2, 2], onnx_name=\"/features/features.9/MaxPool\"](%/features/features.8/Relu_output_0), scope: torchvision.models.vgg.VGG::/torch.nn.modules.container.Sequential::features/torch.nn.modules.pooling.MaxPool2d::features.9 # /home/billalmokhtari/anaconda3/lib/python3.11/site-packages/torch/nn/functional.py:796:0\n",
      "  %/features/features.10/Conv_output_0 : Float(1, 256, 56, 56, strides=[802816, 3136, 56, 1], requires_grad=0, device=cpu) = onnx::Conv[dilations=[1, 1], group=1, kernel_shape=[3, 3], pads=[1, 1, 1, 1], strides=[1, 1], onnx_name=\"/features/features.10/Conv\"](%/features/features.9/MaxPool_output_0, %features.10.weight, %features.10.bias), scope: torchvision.models.vgg.VGG::/torch.nn.modules.container.Sequential::features/torch.nn.modules.conv.Conv2d::features.10 # /home/billalmokhtari/anaconda3/lib/python3.11/site-packages/torch/nn/modules/conv.py:456:0\n",
      "  %/features/features.11/Relu_output_0 : Float(1, 256, 56, 56, strides=[802816, 3136, 56, 1], requires_grad=1, device=cpu) = onnx::Relu[onnx_name=\"/features/features.11/Relu\"](%/features/features.10/Conv_output_0), scope: torchvision.models.vgg.VGG::/torch.nn.modules.container.Sequential::features/torch.nn.modules.activation.ReLU::features.11 # /home/billalmokhtari/anaconda3/lib/python3.11/site-packages/torch/nn/functional.py:1471:0\n",
      "  %/features/features.12/Conv_output_0 : Float(1, 256, 56, 56, strides=[802816, 3136, 56, 1], requires_grad=0, device=cpu) = onnx::Conv[dilations=[1, 1], group=1, kernel_shape=[3, 3], pads=[1, 1, 1, 1], strides=[1, 1], onnx_name=\"/features/features.12/Conv\"](%/features/features.11/Relu_output_0, %features.12.weight, %features.12.bias), scope: torchvision.models.vgg.VGG::/torch.nn.modules.container.Sequential::features/torch.nn.modules.conv.Conv2d::features.12 # /home/billalmokhtari/anaconda3/lib/python3.11/site-packages/torch/nn/modules/conv.py:456:0\n",
      "  %/features/features.13/Relu_output_0 : Float(1, 256, 56, 56, strides=[802816, 3136, 56, 1], requires_grad=1, device=cpu) = onnx::Relu[onnx_name=\"/features/features.13/Relu\"](%/features/features.12/Conv_output_0), scope: torchvision.models.vgg.VGG::/torch.nn.modules.container.Sequential::features/torch.nn.modules.activation.ReLU::features.13 # /home/billalmokhtari/anaconda3/lib/python3.11/site-packages/torch/nn/functional.py:1471:0\n",
      "  %/features/features.14/Conv_output_0 : Float(1, 256, 56, 56, strides=[802816, 3136, 56, 1], requires_grad=0, device=cpu) = onnx::Conv[dilations=[1, 1], group=1, kernel_shape=[3, 3], pads=[1, 1, 1, 1], strides=[1, 1], onnx_name=\"/features/features.14/Conv\"](%/features/features.13/Relu_output_0, %features.14.weight, %features.14.bias), scope: torchvision.models.vgg.VGG::/torch.nn.modules.container.Sequential::features/torch.nn.modules.conv.Conv2d::features.14 # /home/billalmokhtari/anaconda3/lib/python3.11/site-packages/torch/nn/modules/conv.py:456:0\n",
      "  %/features/features.15/Relu_output_0 : Float(1, 256, 56, 56, strides=[802816, 3136, 56, 1], requires_grad=1, device=cpu) = onnx::Relu[onnx_name=\"/features/features.15/Relu\"](%/features/features.14/Conv_output_0), scope: torchvision.models.vgg.VGG::/torch.nn.modules.container.Sequential::features/torch.nn.modules.activation.ReLU::features.15 # /home/billalmokhtari/anaconda3/lib/python3.11/site-packages/torch/nn/functional.py:1471:0\n",
      "  %/features/features.16/MaxPool_output_0 : Float(1, 256, 28, 28, strides=[200704, 784, 28, 1], requires_grad=1, device=cpu) = onnx::MaxPool[ceil_mode=0, dilations=[1, 1], kernel_shape=[2, 2], pads=[0, 0, 0, 0], strides=[2, 2], onnx_name=\"/features/features.16/MaxPool\"](%/features/features.15/Relu_output_0), scope: torchvision.models.vgg.VGG::/torch.nn.modules.container.Sequential::features/torch.nn.modules.pooling.MaxPool2d::features.16 # /home/billalmokhtari/anaconda3/lib/python3.11/site-packages/torch/nn/functional.py:796:0\n",
      "  %/features/features.17/Conv_output_0 : Float(1, 512, 28, 28, strides=[401408, 784, 28, 1], requires_grad=0, device=cpu) = onnx::Conv[dilations=[1, 1], group=1, kernel_shape=[3, 3], pads=[1, 1, 1, 1], strides=[1, 1], onnx_name=\"/features/features.17/Conv\"](%/features/features.16/MaxPool_output_0, %features.17.weight, %features.17.bias), scope: torchvision.models.vgg.VGG::/torch.nn.modules.container.Sequential::features/torch.nn.modules.conv.Conv2d::features.17 # /home/billalmokhtari/anaconda3/lib/python3.11/site-packages/torch/nn/modules/conv.py:456:0\n",
      "  %/features/features.18/Relu_output_0 : Float(1, 512, 28, 28, strides=[401408, 784, 28, 1], requires_grad=1, device=cpu) = onnx::Relu[onnx_name=\"/features/features.18/Relu\"](%/features/features.17/Conv_output_0), scope: torchvision.models.vgg.VGG::/torch.nn.modules.container.Sequential::features/torch.nn.modules.activation.ReLU::features.18 # /home/billalmokhtari/anaconda3/lib/python3.11/site-packages/torch/nn/functional.py:1471:0\n",
      "  %/features/features.19/Conv_output_0 : Float(1, 512, 28, 28, strides=[401408, 784, 28, 1], requires_grad=0, device=cpu) = onnx::Conv[dilations=[1, 1], group=1, kernel_shape=[3, 3], pads=[1, 1, 1, 1], strides=[1, 1], onnx_name=\"/features/features.19/Conv\"](%/features/features.18/Relu_output_0, %features.19.weight, %features.19.bias), scope: torchvision.models.vgg.VGG::/torch.nn.modules.container.Sequential::features/torch.nn.modules.conv.Conv2d::features.19 # /home/billalmokhtari/anaconda3/lib/python3.11/site-packages/torch/nn/modules/conv.py:456:0\n",
      "  %/features/features.20/Relu_output_0 : Float(1, 512, 28, 28, strides=[401408, 784, 28, 1], requires_grad=1, device=cpu) = onnx::Relu[onnx_name=\"/features/features.20/Relu\"](%/features/features.19/Conv_output_0), scope: torchvision.models.vgg.VGG::/torch.nn.modules.container.Sequential::features/torch.nn.modules.activation.ReLU::features.20 # /home/billalmokhtari/anaconda3/lib/python3.11/site-packages/torch/nn/functional.py:1471:0\n",
      "  %/features/features.21/Conv_output_0 : Float(1, 512, 28, 28, strides=[401408, 784, 28, 1], requires_grad=0, device=cpu) = onnx::Conv[dilations=[1, 1], group=1, kernel_shape=[3, 3], pads=[1, 1, 1, 1], strides=[1, 1], onnx_name=\"/features/features.21/Conv\"](%/features/features.20/Relu_output_0, %features.21.weight, %features.21.bias), scope: torchvision.models.vgg.VGG::/torch.nn.modules.container.Sequential::features/torch.nn.modules.conv.Conv2d::features.21 # /home/billalmokhtari/anaconda3/lib/python3.11/site-packages/torch/nn/modules/conv.py:456:0\n",
      "  %/features/features.22/Relu_output_0 : Float(1, 512, 28, 28, strides=[401408, 784, 28, 1], requires_grad=1, device=cpu) = onnx::Relu[onnx_name=\"/features/features.22/Relu\"](%/features/features.21/Conv_output_0), scope: torchvision.models.vgg.VGG::/torch.nn.modules.container.Sequential::features/torch.nn.modules.activation.ReLU::features.22 # /home/billalmokhtari/anaconda3/lib/python3.11/site-packages/torch/nn/functional.py:1471:0\n",
      "  %/features/features.23/MaxPool_output_0 : Float(1, 512, 14, 14, strides=[100352, 196, 14, 1], requires_grad=1, device=cpu) = onnx::MaxPool[ceil_mode=0, dilations=[1, 1], kernel_shape=[2, 2], pads=[0, 0, 0, 0], strides=[2, 2], onnx_name=\"/features/features.23/MaxPool\"](%/features/features.22/Relu_output_0), scope: torchvision.models.vgg.VGG::/torch.nn.modules.container.Sequential::features/torch.nn.modules.pooling.MaxPool2d::features.23 # /home/billalmokhtari/anaconda3/lib/python3.11/site-packages/torch/nn/functional.py:796:0\n",
      "  %/features/features.24/Conv_output_0 : Float(1, 512, 14, 14, strides=[100352, 196, 14, 1], requires_grad=0, device=cpu) = onnx::Conv[dilations=[1, 1], group=1, kernel_shape=[3, 3], pads=[1, 1, 1, 1], strides=[1, 1], onnx_name=\"/features/features.24/Conv\"](%/features/features.23/MaxPool_output_0, %features.24.weight, %features.24.bias), scope: torchvision.models.vgg.VGG::/torch.nn.modules.container.Sequential::features/torch.nn.modules.conv.Conv2d::features.24 # /home/billalmokhtari/anaconda3/lib/python3.11/site-packages/torch/nn/modules/conv.py:456:0\n",
      "  %/features/features.25/Relu_output_0 : Float(1, 512, 14, 14, strides=[100352, 196, 14, 1], requires_grad=1, device=cpu) = onnx::Relu[onnx_name=\"/features/features.25/Relu\"](%/features/features.24/Conv_output_0), scope: torchvision.models.vgg.VGG::/torch.nn.modules.container.Sequential::features/torch.nn.modules.activation.ReLU::features.25 # /home/billalmokhtari/anaconda3/lib/python3.11/site-packages/torch/nn/functional.py:1471:0\n",
      "  %/features/features.26/Conv_output_0 : Float(1, 512, 14, 14, strides=[100352, 196, 14, 1], requires_grad=0, device=cpu) = onnx::Conv[dilations=[1, 1], group=1, kernel_shape=[3, 3], pads=[1, 1, 1, 1], strides=[1, 1], onnx_name=\"/features/features.26/Conv\"](%/features/features.25/Relu_output_0, %features.26.weight, %features.26.bias), scope: torchvision.models.vgg.VGG::/torch.nn.modules.container.Sequential::features/torch.nn.modules.conv.Conv2d::features.26 # /home/billalmokhtari/anaconda3/lib/python3.11/site-packages/torch/nn/modules/conv.py:456:0\n",
      "  %/features/features.27/Relu_output_0 : Float(1, 512, 14, 14, strides=[100352, 196, 14, 1], requires_grad=1, device=cpu) = onnx::Relu[onnx_name=\"/features/features.27/Relu\"](%/features/features.26/Conv_output_0), scope: torchvision.models.vgg.VGG::/torch.nn.modules.container.Sequential::features/torch.nn.modules.activation.ReLU::features.27 # /home/billalmokhtari/anaconda3/lib/python3.11/site-packages/torch/nn/functional.py:1471:0\n",
      "  %/features/features.28/Conv_output_0 : Float(1, 512, 14, 14, strides=[100352, 196, 14, 1], requires_grad=0, device=cpu) = onnx::Conv[dilations=[1, 1], group=1, kernel_shape=[3, 3], pads=[1, 1, 1, 1], strides=[1, 1], onnx_name=\"/features/features.28/Conv\"](%/features/features.27/Relu_output_0, %features.28.weight, %features.28.bias), scope: torchvision.models.vgg.VGG::/torch.nn.modules.container.Sequential::features/torch.nn.modules.conv.Conv2d::features.28 # /home/billalmokhtari/anaconda3/lib/python3.11/site-packages/torch/nn/modules/conv.py:456:0\n",
      "  %/features/features.29/Relu_output_0 : Float(1, 512, 14, 14, strides=[100352, 196, 14, 1], requires_grad=1, device=cpu) = onnx::Relu[onnx_name=\"/features/features.29/Relu\"](%/features/features.28/Conv_output_0), scope: torchvision.models.vgg.VGG::/torch.nn.modules.container.Sequential::features/torch.nn.modules.activation.ReLU::features.29 # /home/billalmokhtari/anaconda3/lib/python3.11/site-packages/torch/nn/functional.py:1471:0\n",
      "  %/features/features.30/MaxPool_output_0 : Float(1, 512, 7, 7, strides=[25088, 49, 7, 1], requires_grad=1, device=cpu) = onnx::MaxPool[ceil_mode=0, dilations=[1, 1], kernel_shape=[2, 2], pads=[0, 0, 0, 0], strides=[2, 2], onnx_name=\"/features/features.30/MaxPool\"](%/features/features.29/Relu_output_0), scope: torchvision.models.vgg.VGG::/torch.nn.modules.container.Sequential::features/torch.nn.modules.pooling.MaxPool2d::features.30 # /home/billalmokhtari/anaconda3/lib/python3.11/site-packages/torch/nn/functional.py:796:0\n",
      "  %/avgpool/AveragePool_output_0 : Float(1, 512, 7, 7, strides=[25088, 49, 7, 1], requires_grad=1, device=cpu) = onnx::AveragePool[kernel_shape=[1, 1], strides=[1, 1], onnx_name=\"/avgpool/AveragePool\"](%/features/features.30/MaxPool_output_0), scope: torchvision.models.vgg.VGG::/torch.nn.modules.pooling.AdaptiveAvgPool2d::avgpool # /home/billalmokhtari/anaconda3/lib/python3.11/site-packages/torch/nn/functional.py:1233:0\n",
      "  %/Flatten_output_0 : Float(1, 25088, strides=[25088, 1], requires_grad=1, device=cpu) = onnx::Flatten[axis=1, onnx_name=\"/Flatten\"](%/avgpool/AveragePool_output_0), scope: torchvision.models.vgg.VGG:: # /home/billalmokhtari/anaconda3/lib/python3.11/site-packages/torchvision/models/vgg.py:68:0\n",
      "  %/classifier/classifier.0/Gemm_output_0 : Float(1, 4096, strides=[4096, 1], requires_grad=1, device=cpu) = onnx::Gemm[alpha=1., beta=1., transB=1, onnx_name=\"/classifier/classifier.0/Gemm\"](%/Flatten_output_0, %classifier.0.weight, %classifier.0.bias), scope: torchvision.models.vgg.VGG::/torch.nn.modules.container.Sequential::classifier/torch.nn.modules.linear.Linear::classifier.0 # /home/billalmokhtari/anaconda3/lib/python3.11/site-packages/torch/nn/modules/linear.py:116:0\n",
      "  %/classifier/classifier.1/Relu_output_0 : Float(1, 4096, strides=[4096, 1], requires_grad=1, device=cpu) = onnx::Relu[onnx_name=\"/classifier/classifier.1/Relu\"](%/classifier/classifier.0/Gemm_output_0), scope: torchvision.models.vgg.VGG::/torch.nn.modules.container.Sequential::classifier/torch.nn.modules.activation.ReLU::classifier.1 # /home/billalmokhtari/anaconda3/lib/python3.11/site-packages/torch/nn/functional.py:1471:0\n",
      "  %/classifier/classifier.3/Gemm_output_0 : Float(1, 4096, strides=[4096, 1], requires_grad=1, device=cpu) = onnx::Gemm[alpha=1., beta=1., transB=1, onnx_name=\"/classifier/classifier.3/Gemm\"](%/classifier/classifier.1/Relu_output_0, %classifier.3.weight, %classifier.3.bias), scope: torchvision.models.vgg.VGG::/torch.nn.modules.container.Sequential::classifier/torch.nn.modules.linear.Linear::classifier.3 # /home/billalmokhtari/anaconda3/lib/python3.11/site-packages/torch/nn/modules/linear.py:116:0\n",
      "  %/classifier/classifier.4/Relu_output_0 : Float(1, 4096, strides=[4096, 1], requires_grad=1, device=cpu) = onnx::Relu[onnx_name=\"/classifier/classifier.4/Relu\"](%/classifier/classifier.3/Gemm_output_0), scope: torchvision.models.vgg.VGG::/torch.nn.modules.container.Sequential::classifier/torch.nn.modules.activation.ReLU::classifier.4 # /home/billalmokhtari/anaconda3/lib/python3.11/site-packages/torch/nn/functional.py:1471:0\n",
      "  %70 : Float(1, 1000, strides=[1000, 1], requires_grad=1, device=cpu) = onnx::Gemm[alpha=1., beta=1., transB=1, onnx_name=\"/classifier/classifier.6/Gemm\"](%/classifier/classifier.4/Relu_output_0, %classifier.6.weight, %classifier.6.bias), scope: torchvision.models.vgg.VGG::/torch.nn.modules.container.Sequential::classifier/torch.nn.modules.linear.Linear::classifier.6 # /home/billalmokhtari/anaconda3/lib/python3.11/site-packages/torch/nn/modules/linear.py:116:0\n",
      "  return (%70)\n",
      "\n"
     ]
    }
   ],
   "source": [
    "torch.onnx.export(model, \n",
    "                    torch.randn(1, 3, 224, 224),\n",
    "                    \"model.onnx\", \n",
    "                    verbose=True)"
   ]
  }
 ],
 "metadata": {
  "kernelspec": {
   "display_name": "base",
   "language": "python",
   "name": "python3"
  },
  "language_info": {
   "codemirror_mode": {
    "name": "ipython",
    "version": 3
   },
   "file_extension": ".py",
   "mimetype": "text/x-python",
   "name": "python",
   "nbconvert_exporter": "python",
   "pygments_lexer": "ipython3",
   "version": "3.11.7"
  }
 },
 "nbformat": 4,
 "nbformat_minor": 2
}
